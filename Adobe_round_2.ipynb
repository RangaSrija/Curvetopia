{
  "nbformat": 4,
  "nbformat_minor": 0,
  "metadata": {
    "colab": {
      "provenance": []
    },
    "kernelspec": {
      "name": "python3",
      "display_name": "Python 3"
    },
    "language_info": {
      "name": "python"
    }
  },
  "cells": [
    {
      "cell_type": "markdown",
      "source": [
        "Installation of cairosvg it is used for efficient transformation of SVG images into PNG, which is particularly useful for displaying graphics on web pages or other digital platforms."
      ],
      "metadata": {
        "id": "wG_Zmpb2vwbn"
      }
    },
    {
      "cell_type": "code",
      "source": [
        "!pip install cairosvg"
      ],
      "metadata": {
        "colab": {
          "base_uri": "https://localhost:8080/"
        },
        "id": "lwYX6CtDjAjm",
        "outputId": "1899ae41-420e-45ec-ff91-7df0a4f0bdbf"
      },
      "execution_count": null,
      "outputs": [
        {
          "output_type": "stream",
          "name": "stdout",
          "text": [
            "Collecting cairosvg\n",
            "  Downloading CairoSVG-2.7.1-py3-none-any.whl.metadata (2.7 kB)\n",
            "Collecting cairocffi (from cairosvg)\n",
            "  Downloading cairocffi-1.7.1-py3-none-any.whl.metadata (3.3 kB)\n",
            "Collecting cssselect2 (from cairosvg)\n",
            "  Downloading cssselect2-0.7.0-py3-none-any.whl.metadata (2.9 kB)\n",
            "Requirement already satisfied: defusedxml in /usr/local/lib/python3.10/dist-packages (from cairosvg) (0.7.1)\n",
            "Requirement already satisfied: pillow in /usr/local/lib/python3.10/dist-packages (from cairosvg) (9.4.0)\n",
            "Requirement already satisfied: tinycss2 in /usr/local/lib/python3.10/dist-packages (from cairosvg) (1.3.0)\n",
            "Requirement already satisfied: cffi>=1.1.0 in /usr/local/lib/python3.10/dist-packages (from cairocffi->cairosvg) (1.17.0)\n",
            "Requirement already satisfied: webencodings in /usr/local/lib/python3.10/dist-packages (from cssselect2->cairosvg) (0.5.1)\n",
            "Requirement already satisfied: pycparser in /usr/local/lib/python3.10/dist-packages (from cffi>=1.1.0->cairocffi->cairosvg) (2.22)\n",
            "Downloading CairoSVG-2.7.1-py3-none-any.whl (43 kB)\n",
            "\u001b[2K   \u001b[90m━━━━━━━━━━━━━━━━━━━━━━━━━━━━━━━━━━━━━━━━\u001b[0m \u001b[32m43.2/43.2 kB\u001b[0m \u001b[31m2.0 MB/s\u001b[0m eta \u001b[36m0:00:00\u001b[0m\n",
            "\u001b[?25hDownloading cairocffi-1.7.1-py3-none-any.whl (75 kB)\n",
            "\u001b[2K   \u001b[90m━━━━━━━━━━━━━━━━━━━━━━━━━━━━━━━━━━━━━━━━\u001b[0m \u001b[32m75.6/75.6 kB\u001b[0m \u001b[31m4.1 MB/s\u001b[0m eta \u001b[36m0:00:00\u001b[0m\n",
            "\u001b[?25hDownloading cssselect2-0.7.0-py3-none-any.whl (15 kB)\n",
            "Installing collected packages: cssselect2, cairocffi, cairosvg\n",
            "Successfully installed cairocffi-1.7.1 cairosvg-2.7.1 cssselect2-0.7.0\n"
          ]
        }
      ]
    },
    {
      "cell_type": "markdown",
      "source": [
        "svgwrite is a Python library for creating SVG graphics programmatically.\n"
      ],
      "metadata": {
        "id": "flmW-repxCVN"
      }
    },
    {
      "cell_type": "code",
      "source": [
        "!pip install svgwrite\n"
      ],
      "metadata": {
        "colab": {
          "base_uri": "https://localhost:8080/"
        },
        "id": "mKzBMZJ7mbDy",
        "outputId": "bc7c9593-65c5-4a38-c159-402270f3e440"
      },
      "execution_count": null,
      "outputs": [
        {
          "output_type": "stream",
          "name": "stdout",
          "text": [
            "Collecting svgwrite\n",
            "  Downloading svgwrite-1.4.3-py3-none-any.whl.metadata (8.8 kB)\n",
            "Downloading svgwrite-1.4.3-py3-none-any.whl (67 kB)\n",
            "\u001b[?25l   \u001b[90m━━━━━━━━━━━━━━━━━━━━━━━━━━━━━━━━━━━━━━━━\u001b[0m \u001b[32m0.0/67.1 kB\u001b[0m \u001b[31m?\u001b[0m eta \u001b[36m-:--:--\u001b[0m\r\u001b[2K   \u001b[90m━━━━━━━━━━━━━━━━━━━━━━━━━━━━━━━━━━━━━━━━\u001b[0m \u001b[32m67.1/67.1 kB\u001b[0m \u001b[31m6.0 MB/s\u001b[0m eta \u001b[36m0:00:00\u001b[0m\n",
            "\u001b[?25hInstalling collected packages: svgwrite\n",
            "Successfully installed svgwrite-1.4.3\n"
          ]
        }
      ]
    },
    {
      "cell_type": "code",
      "source": [
        "import numpy as np\n",
        "import matplotlib.pyplot as plt\n",
        "import svgwrite\n",
        "import cairosvg\n"
      ],
      "metadata": {
        "id": "_6Z9vHUZi-pF"
      },
      "execution_count": null,
      "outputs": []
    },
    {
      "cell_type": "markdown",
      "source": [
        "Read CSV Files to Extract Polylines"
      ],
      "metadata": {
        "id": "_dhNWLbuxaoI"
      }
    },
    {
      "cell_type": "code",
      "source": [
        "def read_csv(csv_path):\n",
        "    np_path_XYs = np.genfromtxt(csv_path, delimiter=',')\n",
        "    path_XYs = []\n",
        "\n",
        "    for i in np.unique(np_path_XYs[:, 0]):\n",
        "        npXYs = np_path_XYs[np_path_XYs[:, 0] == i][:, 1:]\n",
        "        XYs = []\n",
        "\n",
        "        for j in np.unique(npXYs[:, 0]):\n",
        "            XY = npXYs[npXYs[:, 0] == j][:, 1:]\n",
        "            XYs.append(XY)\n",
        "\n",
        "        path_XYs.append(XYs)\n",
        "\n",
        "    return path_XYs\n"
      ],
      "metadata": {
        "id": "P0NudmKmjIBn"
      },
      "execution_count": null,
      "outputs": []
    },
    {
      "cell_type": "markdown",
      "source": [
        "Visualize the Curves"
      ],
      "metadata": {
        "id": "n0_fOrVGxcrT"
      }
    },
    {
      "cell_type": "code",
      "source": [
        "def plot(paths_XYs):\n",
        "    fig, ax = plt.subplots(tight_layout=True, figsize=(8, 8))\n",
        "    colours = ['blue', 'green', 'red', 'cyan', 'magenta', 'yellow', 'black']\n",
        "\n",
        "    for i, XYs in enumerate(paths_XYs):\n",
        "        c = colours[i % len(colours)]\n",
        "        for XY in XYs:\n",
        "            ax.plot(XY[:, 0], XY[:, 1], c=c, linewidth=2)\n",
        "\n",
        "    ax.set_aspect('equal')\n",
        "    plt.show()\n"
      ],
      "metadata": {
        "id": "DHYf6bDXknIo"
      },
      "execution_count": null,
      "outputs": []
    },
    {
      "cell_type": "markdown",
      "source": [
        "Convert Polylines to SVG and PNG"
      ],
      "metadata": {
        "id": "UThgw18qxpwZ"
      }
    },
    {
      "cell_type": "code",
      "source": [
        "def polylines2svg(paths_XYs, svg_path):\n",
        "    W, H = 0, 0\n",
        "    colours = ['blue', 'green', 'red', 'cyan', 'magenta', 'yellow', 'black']\n",
        "\n",
        "    for path_XYs in paths_XYs:\n",
        "        for XY in path_XYs:\n",
        "            W, H = max(W, np.max(XY[:, 0])), max(H, np.max(XY[:, 1]))\n",
        "\n",
        "    padding = 0.1\n",
        "    W, H = int(W + padding * W), int(H + padding * H)\n",
        "\n",
        "    # Create a new SVG drawing\n",
        "    dwg = svgwrite.Drawing(svg_path, profile='tiny', shape_rendering='crispEdges')\n",
        "    group = dwg.g()\n",
        "\n",
        "    for i, path in enumerate(paths_XYs):\n",
        "        path_data = []\n",
        "        c = colours[i % len(colours)]\n",
        "        for XY in path:\n",
        "            path_data.append((\"M\", (XY[0, 0], XY[0, 1])))\n",
        "            for j in range(1, len(XY)):\n",
        "                path_data.append((\"L\", (XY[j, 0], XY[j, 1])))\n",
        "\n",
        "            if not np.allclose(XY[0], XY[-1]):\n",
        "                path_data.append((\"Z\", None))\n",
        "\n",
        "        group.add(dwg.path(d=path_data, fill=c, stroke='none', stroke_width=2))\n",
        "\n",
        "    dwg.add(group)\n",
        "    dwg.save()\n",
        "\n",
        "    png_path = svg_path.replace('.svg', '.png')\n",
        "    fact = max(1, 1024 // min(H, W))\n",
        "\n",
        "    cairosvg.svg2png(url=svg_path, write_to=png_path, parent_width=W, parent_height=H,\n",
        "                     output_width=fact * W, output_height=fact * H, background_color='white')\n",
        "\n",
        "    return\n"
      ],
      "metadata": {
        "id": "kXaRVzsjlB1c"
      },
      "execution_count": null,
      "outputs": []
    },
    {
      "cell_type": "markdown",
      "source": [
        "Regularization"
      ],
      "metadata": {
        "id": "menCCP6uxrqe"
      }
    },
    {
      "cell_type": "code",
      "source": [
        "def regularize_curves(paths_XYs):\n",
        "    # regularization by identifying straight lines, circles, etc.\n",
        "    regularized_paths = []\n",
        "    for path in paths_XYs:\n",
        "        # Identify and regularize curves\n",
        "        regularized_paths.append(path)\n",
        "\n",
        "    return regularized_paths\n"
      ],
      "metadata": {
        "id": "RgqiwAH5lJfU"
      },
      "execution_count": null,
      "outputs": []
    },
    {
      "cell_type": "markdown",
      "source": [
        " Symmetry"
      ],
      "metadata": {
        "id": "X0LhvSDVxyCx"
      }
    },
    {
      "cell_type": "code",
      "source": [
        "def explore_symmetry(paths_XYs):\n",
        "    # symmetry exploration\n",
        "    symmetric_paths = []\n",
        "    for path in paths_XYs:\n",
        "        # Check for symmetry\n",
        "        symmetric_paths.append(path)\n",
        "\n",
        "    return symmetric_paths\n"
      ],
      "metadata": {
        "id": "jwx7wn5HlN3e"
      },
      "execution_count": null,
      "outputs": []
    },
    {
      "cell_type": "markdown",
      "source": [
        "Curve Completion"
      ],
      "metadata": {
        "id": "PmqAYzkjx43Z"
      }
    },
    {
      "cell_type": "code",
      "source": [
        "def complete_curves(paths_XYs):\n",
        "    # Implement curve completion\n",
        "    completed_paths = []\n",
        "    for path in paths_XYs:\n",
        "        # Complete the curves\n",
        "        completed_paths.append(path)\n",
        "\n",
        "    return completed_paths\n"
      ],
      "metadata": {
        "id": "MQiP827tlQgh"
      },
      "execution_count": null,
      "outputs": []
    },
    {
      "cell_type": "markdown",
      "source": [
        "Main code from which the above functions will be called and executed"
      ],
      "metadata": {
        "id": "TVX2rPeax-5e"
      }
    },
    {
      "cell_type": "code",
      "source": [
        "csv_path = '/content/occlusion2.csv'\n",
        "paths_XYs = read_csv(csv_path)\n",
        "\n",
        "# Regularize curves\n",
        "regularized_paths = regularize_curves(paths_XYs)\n",
        "\n",
        "# Explore symmetry\n",
        "symmetric_paths = explore_symmetry(regularized_paths)\n",
        "\n",
        "# Complete incomplete curves\n",
        "completed_paths = complete_curves(symmetric_paths)\n",
        "\n",
        "# Visualize the result\n",
        "plot(completed_paths)\n",
        "\n",
        "# Convert to SVG and PNG\n",
        "polylines2svg(completed_paths, 'output.svg')\n"
      ],
      "metadata": {
        "colab": {
          "base_uri": "https://localhost:8080/",
          "height": 559
        },
        "id": "kEtsgz2WlTTV",
        "outputId": "016b32e3-524f-45d5-e12a-867e0206ec53"
      },
      "execution_count": null,
      "outputs": [
        {
          "output_type": "display_data",
          "data": {
            "text/plain": [
              "<Figure size 800x800 with 1 Axes>"
            ],
            "image/png": "[encoded data removed]"
          },
          "metadata": {}
        }
      ]
    }
  ]
}